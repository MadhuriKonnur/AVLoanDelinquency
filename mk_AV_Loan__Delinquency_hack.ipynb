{
  "nbformat": 4,
  "nbformat_minor": 0,
  "metadata": {
    "colab": {
      "name": " mk_AV_Loan_ Delinquency_hack.ipynb",
      "version": "0.3.2",
      "provenance": [],
      "collapsed_sections": [],
      "include_colab_link": true
    },
    "kernelspec": {
      "name": "python3",
      "display_name": "Python 3"
    }
  },
  "cells": [
    {
      "cell_type": "markdown",
      "metadata": {
        "id": "view-in-github",
        "colab_type": "text"
      },
      "source": [
        "<a href=\"https://colab.research.google.com/github/MadhuriKonnur/AVLoanDelinquency/blob/master/mk_AV_Loan__Delinquency_hack.ipynb\" target=\"_parent\"><img src=\"https://colab.research.google.com/assets/colab-badge.svg\" alt=\"Open In Colab\"/></a>"
      ]
    },
    {
      "cell_type": "markdown",
      "metadata": {
        "id": "sblB-xXY875G",
        "colab_type": "text"
      },
      "source": [
        "** *Loan delinquency prediction**\n",
        "\n",
        "using AutoEncoders , LR and XGB  predicted  m13 label for  loan delinqueny\n",
        "*\n",
        "\n",
        "by Madhuri Konnur"
      ]
    },
    {
      "cell_type": "code",
      "metadata": {
        "id": "fBprt-1Fnfit",
        "colab_type": "code",
        "colab": {}
      },
      "source": [
        "# Code to read csv file into Colaboratory:\n",
        "!pip install -U -q PyDrive\n",
        "from pydrive.auth import GoogleAuth\n",
        "from pydrive.drive import GoogleDrive\n",
        "from google.colab import auth\n",
        "from oauth2client.client import GoogleCredentials\n"
      ],
      "execution_count": 0,
      "outputs": []
    },
    {
      "cell_type": "code",
      "metadata": {
        "id": "eXuWLzaJDJ--",
        "colab_type": "code",
        "colab": {}
      },
      "source": [
        "# Authenticate and create the PyDrive client.\n",
        "auth.authenticate_user()\n",
        "gauth = GoogleAuth()\n",
        "gauth.credentials = GoogleCredentials.get_application_default()\n",
        "drive = GoogleDrive(gauth)"
      ],
      "execution_count": 0,
      "outputs": []
    },
    {
      "cell_type": "code",
      "metadata": {
        "id": "wgSjQ4RwEGJg",
        "colab_type": "code",
        "colab": {}
      },
      "source": [
        "# Data  dependencies\n",
        "from keras.layers import Input, Dense\n",
        "from keras.models import Model, Sequential\n",
        "from keras import regularizers\n",
        "from sklearn.model_selection import train_test_split \n",
        "from sklearn.linear_model import LogisticRegression\n",
        "from sklearn.metrics import classification_report, accuracy_score\n",
        "from sklearn.manifold import TSNE\n",
        "from sklearn import preprocessing \n",
        "import matplotlib.pyplot as plt\n",
        "import pandas as pd \n",
        "import numpy as np\n",
        "import seaborn as sns\n",
        "sns.set(style=\"whitegrid\")\n",
        "np.random.seed(203)\n",
        "\n",
        "###\n",
        "\n",
        "from sklearn.model_selection import train_test_split\n",
        "from sklearn.linear_model import LogisticRegression\n",
        "from sklearn.dummy import DummyClassifier\n",
        "from sklearn.metrics import accuracy_score, f1_score, confusion_matrix, recall_score"
      ],
      "execution_count": 0,
      "outputs": []
    },
    {
      "cell_type": "markdown",
      "metadata": {
        "id": "AedbC801Fnv_",
        "colab_type": "text"
      },
      "source": [
        "access data from google  drive , for  example  from  drive  go to sharable  links  of  ( .csv files ) .\n",
        "Take  test  and  train  data  csv files  shareable  links.\n",
        "paste  it  and  take  out  id's \n",
        "\n",
        "train - https://drive.google.com/open?id=12EigyMTPblusJfY4m90iKrYHhyuxguEl\n",
        "test- https://drive.google.com/open?id=1ACWrxAvHKcA-Av7G1CtsDw8gLxZCsw5Q"
      ]
    },
    {
      "cell_type": "code",
      "metadata": {
        "id": "0sUFZA0ipfPm",
        "colab_type": "code",
        "colab": {}
      },
      "source": [
        "# Authenticate and create the PyDrive client.\n",
        "auth.authenticate_user()\n",
        "gauth = GoogleAuth()\n",
        "gauth.credentials = GoogleCredentials.get_application_default()\n",
        "drive = GoogleDrive(gauth)"
      ],
      "execution_count": 0,
      "outputs": []
    },
    {
      "cell_type": "code",
      "metadata": {
        "id": "fvAQn6ZqGvJO",
        "colab_type": "code",
        "outputId": "c1484b88-ce17-476a-85c7-40587d43d898",
        "colab": {
          "base_uri": "https://localhost:8080/",
          "height": 493
        }
      },
      "source": [
        "#Google drive  data access\n",
        "train_downloaded=drive.CreateFile({'id':'12EigyMTPblusJfY4m90iKrYHhyuxguEl'})\n",
        "train_downloaded.GetContentFile('train.csv')\n",
        "test_downloaded=drive.CreateFile({'id':'1ACWrxAvHKcA-Av7G1CtsDw8gLxZCsw5Q'})\n",
        "test_downloaded.GetContentFile('test.csv')\n"
      ],
      "execution_count": 880,
      "outputs": [
        {
          "output_type": "stream",
          "text": [
            "W0823 20:26:08.896358 140595411400576 __init__.py:44] file_cache is unavailable when using oauth2client >= 4.0.0 or google-auth\n",
            "Traceback (most recent call last):\n",
            "  File \"/usr/local/lib/python3.6/dist-packages/googleapiclient/discovery_cache/__init__.py\", line 36, in autodetect\n",
            "    from google.appengine.api import memcache\n",
            "ModuleNotFoundError: No module named 'google.appengine'\n",
            "\n",
            "During handling of the above exception, another exception occurred:\n",
            "\n",
            "Traceback (most recent call last):\n",
            "  File \"/usr/local/lib/python3.6/dist-packages/googleapiclient/discovery_cache/file_cache.py\", line 33, in <module>\n",
            "    from oauth2client.contrib.locked_file import LockedFile\n",
            "ModuleNotFoundError: No module named 'oauth2client.contrib.locked_file'\n",
            "\n",
            "During handling of the above exception, another exception occurred:\n",
            "\n",
            "Traceback (most recent call last):\n",
            "  File \"/usr/local/lib/python3.6/dist-packages/googleapiclient/discovery_cache/file_cache.py\", line 37, in <module>\n",
            "    from oauth2client.locked_file import LockedFile\n",
            "ModuleNotFoundError: No module named 'oauth2client.locked_file'\n",
            "\n",
            "During handling of the above exception, another exception occurred:\n",
            "\n",
            "Traceback (most recent call last):\n",
            "  File \"/usr/local/lib/python3.6/dist-packages/googleapiclient/discovery_cache/__init__.py\", line 41, in autodetect\n",
            "    from . import file_cache\n",
            "  File \"/usr/local/lib/python3.6/dist-packages/googleapiclient/discovery_cache/file_cache.py\", line 41, in <module>\n",
            "    'file_cache is unavailable when using oauth2client >= 4.0.0 or google-auth')\n",
            "ImportError: file_cache is unavailable when using oauth2client >= 4.0.0 or google-auth\n"
          ],
          "name": "stderr"
        }
      ]
    },
    {
      "cell_type": "code",
      "metadata": {
        "id": "n-3fmOMkIF2S",
        "colab_type": "code",
        "colab": {}
      },
      "source": [
        "data=pd.read_csv('train.csv')\n",
        "test=pd.read_csv('test.csv')"
      ],
      "execution_count": 0,
      "outputs": []
    },
    {
      "cell_type": "code",
      "metadata": {
        "id": "vjxmKWeLIW6l",
        "colab_type": "code",
        "outputId": "548a0576-dc42-43dc-f967-6bc5fe984fcf",
        "colab": {
          "base_uri": "https://localhost:8080/",
          "height": 275
        }
      },
      "source": [
        "data.head()"
      ],
      "execution_count": 882,
      "outputs": [
        {
          "output_type": "execute_result",
          "data": {
            "text/html": [
              "<div>\n",
              "<style scoped>\n",
              "    .dataframe tbody tr th:only-of-type {\n",
              "        vertical-align: middle;\n",
              "    }\n",
              "\n",
              "    .dataframe tbody tr th {\n",
              "        vertical-align: top;\n",
              "    }\n",
              "\n",
              "    .dataframe thead th {\n",
              "        text-align: right;\n",
              "    }\n",
              "</style>\n",
              "<table border=\"1\" class=\"dataframe\">\n",
              "  <thead>\n",
              "    <tr style=\"text-align: right;\">\n",
              "      <th></th>\n",
              "      <th>loan_id</th>\n",
              "      <th>source</th>\n",
              "      <th>financial_institution</th>\n",
              "      <th>interest_rate</th>\n",
              "      <th>unpaid_principal_bal</th>\n",
              "      <th>loan_term</th>\n",
              "      <th>origination_date</th>\n",
              "      <th>first_payment_date</th>\n",
              "      <th>loan_to_value</th>\n",
              "      <th>number_of_borrowers</th>\n",
              "      <th>debt_to_income_ratio</th>\n",
              "      <th>borrower_credit_score</th>\n",
              "      <th>loan_purpose</th>\n",
              "      <th>insurance_percent</th>\n",
              "      <th>co-borrower_credit_score</th>\n",
              "      <th>insurance_type</th>\n",
              "      <th>m1</th>\n",
              "      <th>m2</th>\n",
              "      <th>m3</th>\n",
              "      <th>m4</th>\n",
              "      <th>m5</th>\n",
              "      <th>m6</th>\n",
              "      <th>m7</th>\n",
              "      <th>m8</th>\n",
              "      <th>m9</th>\n",
              "      <th>m10</th>\n",
              "      <th>m11</th>\n",
              "      <th>m12</th>\n",
              "      <th>m13</th>\n",
              "    </tr>\n",
              "  </thead>\n",
              "  <tbody>\n",
              "    <tr>\n",
              "      <th>0</th>\n",
              "      <td>268055008619</td>\n",
              "      <td>Z</td>\n",
              "      <td>Turner, Baldwin and Rhodes</td>\n",
              "      <td>4.250</td>\n",
              "      <td>214000</td>\n",
              "      <td>360</td>\n",
              "      <td>2012-03-01</td>\n",
              "      <td>05/2012</td>\n",
              "      <td>95</td>\n",
              "      <td>1.0</td>\n",
              "      <td>22.0</td>\n",
              "      <td>694.0</td>\n",
              "      <td>C86</td>\n",
              "      <td>30.0</td>\n",
              "      <td>0.0</td>\n",
              "      <td>0.0</td>\n",
              "      <td>0</td>\n",
              "      <td>0</td>\n",
              "      <td>0</td>\n",
              "      <td>0</td>\n",
              "      <td>0</td>\n",
              "      <td>0</td>\n",
              "      <td>1</td>\n",
              "      <td>0</td>\n",
              "      <td>0</td>\n",
              "      <td>0</td>\n",
              "      <td>0</td>\n",
              "      <td>0</td>\n",
              "      <td>1</td>\n",
              "    </tr>\n",
              "    <tr>\n",
              "      <th>1</th>\n",
              "      <td>672831657627</td>\n",
              "      <td>Y</td>\n",
              "      <td>Swanson, Newton and Miller</td>\n",
              "      <td>4.875</td>\n",
              "      <td>144000</td>\n",
              "      <td>360</td>\n",
              "      <td>2012-01-01</td>\n",
              "      <td>03/2012</td>\n",
              "      <td>72</td>\n",
              "      <td>1.0</td>\n",
              "      <td>44.0</td>\n",
              "      <td>697.0</td>\n",
              "      <td>B12</td>\n",
              "      <td>0.0</td>\n",
              "      <td>0.0</td>\n",
              "      <td>0.0</td>\n",
              "      <td>0</td>\n",
              "      <td>0</td>\n",
              "      <td>0</td>\n",
              "      <td>0</td>\n",
              "      <td>0</td>\n",
              "      <td>0</td>\n",
              "      <td>0</td>\n",
              "      <td>0</td>\n",
              "      <td>0</td>\n",
              "      <td>0</td>\n",
              "      <td>1</td>\n",
              "      <td>0</td>\n",
              "      <td>1</td>\n",
              "    </tr>\n",
              "    <tr>\n",
              "      <th>2</th>\n",
              "      <td>742515242108</td>\n",
              "      <td>Z</td>\n",
              "      <td>Thornton-Davis</td>\n",
              "      <td>3.250</td>\n",
              "      <td>366000</td>\n",
              "      <td>180</td>\n",
              "      <td>2012-01-01</td>\n",
              "      <td>03/2012</td>\n",
              "      <td>49</td>\n",
              "      <td>1.0</td>\n",
              "      <td>33.0</td>\n",
              "      <td>780.0</td>\n",
              "      <td>B12</td>\n",
              "      <td>0.0</td>\n",
              "      <td>0.0</td>\n",
              "      <td>0.0</td>\n",
              "      <td>0</td>\n",
              "      <td>0</td>\n",
              "      <td>0</td>\n",
              "      <td>0</td>\n",
              "      <td>0</td>\n",
              "      <td>0</td>\n",
              "      <td>0</td>\n",
              "      <td>0</td>\n",
              "      <td>0</td>\n",
              "      <td>0</td>\n",
              "      <td>0</td>\n",
              "      <td>0</td>\n",
              "      <td>1</td>\n",
              "    </tr>\n",
              "    <tr>\n",
              "      <th>3</th>\n",
              "      <td>601385667462</td>\n",
              "      <td>X</td>\n",
              "      <td>OTHER</td>\n",
              "      <td>4.750</td>\n",
              "      <td>135000</td>\n",
              "      <td>360</td>\n",
              "      <td>2012-02-01</td>\n",
              "      <td>04/2012</td>\n",
              "      <td>46</td>\n",
              "      <td>2.0</td>\n",
              "      <td>44.0</td>\n",
              "      <td>633.0</td>\n",
              "      <td>B12</td>\n",
              "      <td>0.0</td>\n",
              "      <td>638.0</td>\n",
              "      <td>0.0</td>\n",
              "      <td>0</td>\n",
              "      <td>0</td>\n",
              "      <td>0</td>\n",
              "      <td>0</td>\n",
              "      <td>0</td>\n",
              "      <td>0</td>\n",
              "      <td>0</td>\n",
              "      <td>0</td>\n",
              "      <td>1</td>\n",
              "      <td>1</td>\n",
              "      <td>1</td>\n",
              "      <td>1</td>\n",
              "      <td>1</td>\n",
              "    </tr>\n",
              "    <tr>\n",
              "      <th>4</th>\n",
              "      <td>273870029961</td>\n",
              "      <td>X</td>\n",
              "      <td>OTHER</td>\n",
              "      <td>4.750</td>\n",
              "      <td>124000</td>\n",
              "      <td>360</td>\n",
              "      <td>2012-02-01</td>\n",
              "      <td>04/2012</td>\n",
              "      <td>80</td>\n",
              "      <td>1.0</td>\n",
              "      <td>43.0</td>\n",
              "      <td>681.0</td>\n",
              "      <td>C86</td>\n",
              "      <td>0.0</td>\n",
              "      <td>0.0</td>\n",
              "      <td>0.0</td>\n",
              "      <td>0</td>\n",
              "      <td>1</td>\n",
              "      <td>2</td>\n",
              "      <td>3</td>\n",
              "      <td>4</td>\n",
              "      <td>5</td>\n",
              "      <td>6</td>\n",
              "      <td>7</td>\n",
              "      <td>8</td>\n",
              "      <td>9</td>\n",
              "      <td>10</td>\n",
              "      <td>11</td>\n",
              "      <td>1</td>\n",
              "    </tr>\n",
              "  </tbody>\n",
              "</table>\n",
              "</div>"
            ],
            "text/plain": [
              "        loan_id source       financial_institution  ...  m11  m12  m13\n",
              "0  268055008619      Z  Turner, Baldwin and Rhodes  ...    0    0    1\n",
              "1  672831657627      Y  Swanson, Newton and Miller  ...    1    0    1\n",
              "2  742515242108      Z              Thornton-Davis  ...    0    0    1\n",
              "3  601385667462      X                       OTHER  ...    1    1    1\n",
              "4  273870029961      X                       OTHER  ...   10   11    1\n",
              "\n",
              "[5 rows x 29 columns]"
            ]
          },
          "metadata": {
            "tags": []
          },
          "execution_count": 882
        }
      ]
    },
    {
      "cell_type": "code",
      "metadata": {
        "id": "E8LBiOfyVGzo",
        "colab_type": "code",
        "outputId": "ee74e4c4-55a2-4a2f-bd88-d8e6027965d6",
        "colab": {
          "base_uri": "https://localhost:8080/",
          "height": 51
        }
      },
      "source": [
        "# check out the size of the data\n",
        "print(\"Train data shape:\", data.shape)\n",
        "print(\"Test data shape:\", test.shape)"
      ],
      "execution_count": 883,
      "outputs": [
        {
          "output_type": "stream",
          "text": [
            "Train data shape: (116058, 29)\n",
            "Test data shape: (35866, 28)\n"
          ],
          "name": "stdout"
        }
      ]
    },
    {
      "cell_type": "code",
      "metadata": {
        "id": "u7xreoKeocdx",
        "colab_type": "code",
        "outputId": "7e97f207-3dd4-423d-8a99-912052eed07b",
        "colab": {
          "base_uri": "https://localhost:8080/",
          "height": 476
        }
      },
      "source": [
        "#Checking there is any null value or not\n",
        "plt.figure(figsize=(10, 5))\n",
        "sns.heatmap(data.isnull())"
      ],
      "execution_count": 884,
      "outputs": [
        {
          "output_type": "execute_result",
          "data": {
            "text/plain": [
              "<matplotlib.axes._subplots.AxesSubplot at 0x7fde8ecc0a58>"
            ]
          },
          "metadata": {
            "tags": []
          },
          "execution_count": 884
        },
        {
          "output_type": "display_data",
          "data": {
            "image/png": "[encoded data removed]",
            "text/plain": [
              "<Figure size 720x360 with 2 Axes>"
            ]
          },
          "metadata": {
            "tags": []
          }
        }
      ]
    },
    {
      "cell_type": "markdown",
      "metadata": {
        "id": "qKdRIp07on5Z",
        "colab_type": "text"
      },
      "source": [
        "No Missing  data"
      ]
    },
    {
      "cell_type": "code",
      "metadata": {
        "id": "l2S1VMCooubh",
        "colab_type": "code",
        "outputId": "09afdfeb-9b90-4eff-dafb-bef08b7fe10e",
        "colab": {
          "base_uri": "https://localhost:8080/",
          "height": 527
        }
      },
      "source": [
        "data.dtypes"
      ],
      "execution_count": 885,
      "outputs": [
        {
          "output_type": "execute_result",
          "data": {
            "text/plain": [
              "loan_id                       int64\n",
              "source                       object\n",
              "financial_institution        object\n",
              "interest_rate               float64\n",
              "unpaid_principal_bal          int64\n",
              "loan_term                     int64\n",
              "origination_date             object\n",
              "first_payment_date           object\n",
              "loan_to_value                 int64\n",
              "number_of_borrowers         float64\n",
              "debt_to_income_ratio        float64\n",
              "borrower_credit_score       float64\n",
              "loan_purpose                 object\n",
              "insurance_percent           float64\n",
              "co-borrower_credit_score    float64\n",
              "insurance_type              float64\n",
              "m1                            int64\n",
              "m2                            int64\n",
              "m3                            int64\n",
              "m4                            int64\n",
              "m5                            int64\n",
              "m6                            int64\n",
              "m7                            int64\n",
              "m8                            int64\n",
              "m9                            int64\n",
              "m10                           int64\n",
              "m11                           int64\n",
              "m12                           int64\n",
              "m13                           int64\n",
              "dtype: object"
            ]
          },
          "metadata": {
            "tags": []
          },
          "execution_count": 885
        }
      ]
    },
    {
      "cell_type": "markdown",
      "metadata": {
        "id": "cmDFhv_1paMU",
        "colab_type": "text"
      },
      "source": [
        "Encoding string to intiger ( Categoriacal object to intiger)"
      ]
    },
    {
      "cell_type": "code",
      "metadata": {
        "id": "AF5lp_BXpQBV",
        "colab_type": "code",
        "colab": {}
      },
      "source": [
        "cols = ('source', 'financial_institution', 'origination_date',\n",
        "       'first_payment_date', 'loan_purpose')\n"
      ],
      "execution_count": 0,
      "outputs": []
    },
    {
      "cell_type": "code",
      "metadata": {
        "id": "iYJKtBDWpznI",
        "colab_type": "code",
        "colab": {}
      },
      "source": [
        "from sklearn.preprocessing import LabelEncoder\n",
        "for c in cols:\n",
        "    lbl = LabelEncoder() \n",
        "    lbl.fit(list(data[c].values)) \n",
        "    data[c] = lbl.transform(list(data[c].values))"
      ],
      "execution_count": 0,
      "outputs": []
    },
    {
      "cell_type": "markdown",
      "metadata": {
        "id": "zUocJX91qXx-",
        "colab_type": "text"
      },
      "source": [
        "The dataset consists of 15 anonymized variables, 'loan_id', 'source', 'financial_institution', 'interest_rate',\n",
        "       'unpaid_principal_bal', 'loan_term', 'origination_date',\n",
        "       'first_payment_date', 'loan_to_value', 'number_of_borrowers',\n",
        "       'debt_to_income_ratio', 'borrower_credit_score', 'loan_purpose',\n",
        "       'insurance_percent', 'co-borrower_credit_score', 'insurance_type\n",
        "and 1 target variable - m13. \n",
        "\n",
        "Total 29 variables\n",
        "       \n",
        "       Let's look at the distribution of target."
      ]
    },
    {
      "cell_type": "code",
      "metadata": {
        "id": "WDbHDMFop9tv",
        "colab_type": "code",
        "outputId": "43e9d02f-2087-4c2b-b8e7-c9ec78cde673",
        "colab": {
          "base_uri": "https://localhost:8080/",
          "height": 322
        }
      },
      "source": [
        "data['m13'].value_counts().plot('bar')\n",
        "data['m13'].value_counts()"
      ],
      "execution_count": 888,
      "outputs": [
        {
          "output_type": "execute_result",
          "data": {
            "text/plain": [
              "0    115422\n",
              "1       636\n",
              "Name: m13, dtype: int64"
            ]
          },
          "metadata": {
            "tags": []
          },
          "execution_count": 888
        },
        {
          "output_type": "display_data",
          "data": {
            "image/png": "[encoded data removed]",
            "text/plain": [
              "<Figure size 432x288 with 1 Axes>"
            ]
          },
          "metadata": {
            "tags": []
          }
        }
      ]
    },
    {
      "cell_type": "code",
      "metadata": {
        "id": "55m9Cvtprjya",
        "colab_type": "code",
        "outputId": "1d769673-7323-4df6-b224-41a722a01cd8",
        "colab": {
          "base_uri": "https://localhost:8080/",
          "height": 111
        }
      },
      "source": [
        "vc = data['m13'].value_counts().to_frame().reset_index()\n",
        "vc['percent'] = vc[\"m13\"].apply(lambda x : round(100*float(x) / len(data), 2))\n",
        "vc = vc.rename(columns = {\"index\" : \"Target\", \"m13\" : \"Count\"})\n",
        "vc"
      ],
      "execution_count": 889,
      "outputs": [
        {
          "output_type": "execute_result",
          "data": {
            "text/html": [
              "<div>\n",
              "<style scoped>\n",
              "    .dataframe tbody tr th:only-of-type {\n",
              "        vertical-align: middle;\n",
              "    }\n",
              "\n",
              "    .dataframe tbody tr th {\n",
              "        vertical-align: top;\n",
              "    }\n",
              "\n",
              "    .dataframe thead th {\n",
              "        text-align: right;\n",
              "    }\n",
              "</style>\n",
              "<table border=\"1\" class=\"dataframe\">\n",
              "  <thead>\n",
              "    <tr style=\"text-align: right;\">\n",
              "      <th></th>\n",
              "      <th>Target</th>\n",
              "      <th>Count</th>\n",
              "      <th>percent</th>\n",
              "    </tr>\n",
              "  </thead>\n",
              "  <tbody>\n",
              "    <tr>\n",
              "      <th>0</th>\n",
              "      <td>0</td>\n",
              "      <td>115422</td>\n",
              "      <td>99.45</td>\n",
              "    </tr>\n",
              "    <tr>\n",
              "      <th>1</th>\n",
              "      <td>1</td>\n",
              "      <td>636</td>\n",
              "      <td>0.55</td>\n",
              "    </tr>\n",
              "  </tbody>\n",
              "</table>\n",
              "</div>"
            ],
            "text/plain": [
              "   Target   Count  percent\n",
              "0       0  115422    99.45\n",
              "1       1     636     0.55"
            ]
          },
          "metadata": {
            "tags": []
          },
          "execution_count": 889
        }
      ]
    },
    {
      "cell_type": "markdown",
      "metadata": {
        "id": "0kMhsq36r6f8",
        "colab_type": "text"
      },
      "source": [
        "One of the biggest challenge of this problem is that the target is highly imbalanced as only 0.55 % cases are Delinquency transactions. But the advantage of the representation learning approach is that it is still able to handle such imbalance nature of the problems. We will look how. For our use-case let's take only about 1000 rows of non-Delinquency transactions."
      ]
    },
    {
      "cell_type": "markdown",
      "metadata": {
        "id": "Mz6HZpKwsa2F",
        "colab_type": "text"
      },
      "source": [
        "*Consider* only 1000 rows of non Delinquency cases"
      ]
    },
    {
      "cell_type": "code",
      "metadata": {
        "id": "iOef0i_bsQYC",
        "colab_type": "code",
        "colab": {}
      },
      "source": [
        "non_dlq = data[data['m13'] == 0].sample(1000)\n",
        "dlq = data[data['m13'] == 1]\n",
        "\n",
        "df = non_dlq.append(dlq).sample(frac=1).reset_index(drop=True)\n",
        "X = df.drop(['m13'], axis = 1).values\n",
        "Y = df[\"m13\"].values"
      ],
      "execution_count": 0,
      "outputs": []
    },
    {
      "cell_type": "markdown",
      "metadata": {
        "id": "aTnPhKYBtayR",
        "colab_type": "text"
      },
      "source": [
        "**Visualize Delinquency and NonDelinquency Transactions**\n",
        "\n",
        "Let's visualize the nature of Delinquency(dlq) and non-delinquency transactions using T-SNE. T-SNE (t-Distributed Stochastic Neighbor Embedding) is a dataset decomposition technique which reduced the dimentions of data and produces only top n components with maximum information.\n",
        "\n",
        "Every dot in the following represents a transaction. Non delinquency transactions are represented as Green while delinquency transactions are represented as Red. The two axis are the components extracted by tsne."
      ]
    },
    {
      "cell_type": "code",
      "metadata": {
        "id": "13dAF6kOuUUb",
        "colab_type": "code",
        "outputId": "0ee2fbc1-428c-43e3-83a1-a757ba23a360",
        "colab": {
          "base_uri": "https://localhost:8080/",
          "height": 491
        }
      },
      "source": [
        "def tsne_plot(x1, y1, name=\"graph.png\"):\n",
        "    tsne = TSNE(n_components=2, random_state=0)\n",
        "    X_t = tsne.fit_transform(x1)\n",
        "\n",
        "    plt.figure(figsize=(12, 8))\n",
        "    plt.scatter(X_t[np.where(y1 == 0), 0], X_t[np.where(y1 == 0), 1], marker='o', color='g', linewidth='1', alpha=0.8, label='Non dlq')\n",
        "    plt.scatter(X_t[np.where(y1 == 1), 0], X_t[np.where(y1 == 1), 1], marker='o', color='r', linewidth='1', alpha=0.8, label='dlq')\n",
        "\n",
        "    plt.legend(loc='best');\n",
        "    plt.savefig(name);\n",
        "    plt.show();\n",
        "    \n",
        "tsne_plot(X, Y, \"original.png\")\n"
      ],
      "execution_count": 891,
      "outputs": [
        {
          "output_type": "display_data",
          "data": {
            "image/png": "[encoded data removed]",
            "text/plain": [
              "<Figure size 864x576 with 1 Axes>"
            ]
          },
          "metadata": {
            "tags": []
          }
        }
      ]
    },
    {
      "cell_type": "markdown",
      "metadata": {
        "id": "l2WgTRQYvbsH",
        "colab_type": "text"
      },
      "source": [
        "From the above graph we can observe that there are many \"dlq\" transactions which are very close to \"non_dlq\" transactions, thus are difficult to accurately classify from a model."
      ]
    },
    {
      "cell_type": "markdown",
      "metadata": {
        "id": "frSCAqgnv944",
        "colab_type": "text"
      },
      "source": [
        "**AutoEncoders to the rescue**\n",
        "\n",
        "What are Autoencoders? - Autoencoders are a special type of neural network architectures in which the output is same as the input. Autoencoders are trained in an unsupervised manner in order to learn the exteremely low level repersentations of the input data. These low level features are then deformed back to project the actual data. An autoencoder is a regression task where the network is asked to predict its input (in other words, model the identity function). These networks has a tight bottleneck of a few neurons in the middle, forcing them to create effective representations that compress the input into a low-dimensional code that can be used by the decoder to reproduce the original input.\n",
        "\n",
        "\n"
      ]
    },
    {
      "cell_type": "markdown",
      "metadata": {
        "id": "0ltGCU0cwUqM",
        "colab_type": "text"
      },
      "source": [
        " create an autoencoder model in which we only show the model non-dlq cases. The model will try to learn the best representation of non-dlq cases. The same model will be used to generate the representations of dlq cases and we expect them to be different from non-dlq ones.\n",
        "\n",
        "Create a network with one input layer and one output layer having identical dimentions ie. the shape of non-dlq cases. We will use keras package."
      ]
    },
    {
      "cell_type": "code",
      "metadata": {
        "id": "JOpuYHgbvzti",
        "colab_type": "code",
        "colab": {}
      },
      "source": [
        "## input layer \n",
        "input_layer = Input(shape=(X.shape[1],))\n",
        "\n",
        "\n",
        "## encoding part\n",
        "#encoded = Dense(100, activation='tanh', activity_regularizer=regularizers.l1(10e-5))(input_layer)\n",
        "#encoded = Dense(50, activation='relu')(encoded)\n",
        "encoded = Dense(150, activation='tanh', activity_regularizer=regularizers.l1(10e-5))(input_layer)\n",
        "encoded = Dense(100, activation='relu')(encoded)\n",
        "encoded = Dense(50, activation='relu')(encoded)\n",
        "\n",
        "## decoding part\n",
        "#decoded = Dense(50, activation='tanh')(encoded)\n",
        "#decoded = Dense(100, activation='tanh')(decoded)\n",
        "decoded = Dense(50, activation='tanh')(encoded)\n",
        "decoded = Dense(100, activation='tanh')(decoded)\n",
        "decoded = Dense(150, activation='tanh')(decoded)\n",
        "\n",
        "## output layer\n",
        "output_layer = Dense(X.shape[1], activation='relu')(decoded)"
      ],
      "execution_count": 0,
      "outputs": []
    },
    {
      "cell_type": "markdown",
      "metadata": {
        "id": "7qfnOprww9Wo",
        "colab_type": "text"
      },
      "source": [
        "Create the model architecture by compiling input layer and output layers. Also add the optimizer and loss function, I am using \"adadelta\" as the optimizer and \"mse\" as the loss function."
      ]
    },
    {
      "cell_type": "code",
      "metadata": {
        "id": "IDsetxmpxiP3",
        "colab_type": "code",
        "colab": {}
      },
      "source": [
        "autoencoder = Model(input_layer, output_layer)\n",
        "autoencoder.compile(optimizer=\"adadelta\", loss=\"mse\")"
      ],
      "execution_count": 0,
      "outputs": []
    },
    {
      "cell_type": "markdown",
      "metadata": {
        "id": "2-TN0pP4xrgo",
        "colab_type": "text"
      },
      "source": [
        "Before training, let's perform min max scaling."
      ]
    },
    {
      "cell_type": "code",
      "metadata": {
        "id": "jhqOSA74xtrp",
        "colab_type": "code",
        "colab": {}
      },
      "source": [
        "x = data.drop([\"m13\"], axis=1)\n",
        "y = data[\"m13\"].values\n",
        "\n",
        "x_scale = preprocessing.MinMaxScaler().fit_transform(x.values)\n",
        "\n",
        "x_norm, x_dlq = x_scale[y == 0], x_scale[y == 1]\n",
        "\n"
      ],
      "execution_count": 0,
      "outputs": []
    },
    {
      "cell_type": "markdown",
      "metadata": {
        "id": "LayJiJifyL1c",
        "colab_type": "text"
      },
      "source": [
        "The beauty of this approach is that we do not need too many samples of data for learning the good representations. We will use only 2000 rows of non delinquency cases to train the autoencoder. Additionally, We do not need to run this model for a large number of epochs.\n",
        "\n",
        "Explanation: The choice of small samples from the original dataset is based on the intuition that one class characteristics (non dlq) will differ from that of the other (dlq). To distinguish these characteristics we need to show the autoencoders only one class of data. This is because the autoencoder will try to learn only one class and automaticlly distinuish the other class."
      ]
    },
    {
      "cell_type": "code",
      "metadata": {
        "id": "tMrZBt1HyiJu",
        "colab_type": "code",
        "outputId": "babb41e1-e4ea-4257-e290-ca4fb9314ef6",
        "colab": {
          "base_uri": "https://localhost:8080/",
          "height": 1000
        }
      },
      "source": [
        "autoencoder.fit(x_norm[0:2000], x_norm[0:2000], \n",
        "                batch_size =300, epochs =100, \n",
        "                shuffle = True, validation_split = 0.20);"
      ],
      "execution_count": 895,
      "outputs": [
        {
          "output_type": "stream",
          "text": [
            "Train on 1600 samples, validate on 400 samples\n",
            "Epoch 1/100\n",
            "1600/1600 [==============================] - 1s 628us/step - loss: 0.8443 - val_loss: 0.6266\n",
            "Epoch 2/100\n",
            "1600/1600 [==============================] - 0s 31us/step - loss: 0.6517 - val_loss: 0.5142\n",
            "Epoch 3/100\n",
            "1600/1600 [==============================] - 0s 33us/step - loss: 0.5435 - val_loss: 0.4371\n",
            "Epoch 4/100\n",
            "1600/1600 [==============================] - 0s 30us/step - loss: 0.4669 - val_loss: 0.3843\n",
            "Epoch 5/100\n",
            "1600/1600 [==============================] - 0s 31us/step - loss: 0.4160 - val_loss: 0.3481\n",
            "Epoch 6/100\n",
            "1600/1600 [==============================] - 0s 31us/step - loss: 0.3798 - val_loss: 0.3214\n",
            "Epoch 7/100\n",
            "1600/1600 [==============================] - 0s 32us/step - loss: 0.3528 - val_loss: 0.3009\n",
            "Epoch 8/100\n",
            "1600/1600 [==============================] - 0s 30us/step - loss: 0.3315 - val_loss: 0.2851\n",
            "Epoch 9/100\n",
            "1600/1600 [==============================] - 0s 30us/step - loss: 0.3152 - val_loss: 0.2711\n",
            "Epoch 10/100\n",
            "1600/1600 [==============================] - 0s 31us/step - loss: 0.2994 - val_loss: 0.2585\n",
            "Epoch 11/100\n",
            "1600/1600 [==============================] - 0s 32us/step - loss: 0.2857 - val_loss: 0.2463\n",
            "Epoch 12/100\n",
            "1600/1600 [==============================] - 0s 31us/step - loss: 0.2729 - val_loss: 0.2361\n",
            "Epoch 13/100\n",
            "1600/1600 [==============================] - 0s 30us/step - loss: 0.2552 - val_loss: 0.2114\n",
            "Epoch 14/100\n",
            "1600/1600 [==============================] - 0s 31us/step - loss: 0.2334 - val_loss: 0.1978\n",
            "Epoch 15/100\n",
            "1600/1600 [==============================] - 0s 33us/step - loss: 0.2194 - val_loss: 0.1857\n",
            "Epoch 16/100\n",
            "1600/1600 [==============================] - 0s 30us/step - loss: 0.2074 - val_loss: 0.1759\n",
            "Epoch 17/100\n",
            "1600/1600 [==============================] - 0s 32us/step - loss: 0.1972 - val_loss: 0.1703\n",
            "Epoch 18/100\n",
            "1600/1600 [==============================] - 0s 31us/step - loss: 0.1896 - val_loss: 0.1608\n",
            "Epoch 19/100\n",
            "1600/1600 [==============================] - 0s 35us/step - loss: 0.1789 - val_loss: 0.1569\n",
            "Epoch 20/100\n",
            "1600/1600 [==============================] - 0s 32us/step - loss: 0.1748 - val_loss: 0.1464\n",
            "Epoch 21/100\n",
            "1600/1600 [==============================] - 0s 30us/step - loss: 0.1690 - val_loss: 0.1423\n",
            "Epoch 22/100\n",
            "1600/1600 [==============================] - 0s 30us/step - loss: 0.1642 - val_loss: 0.1408\n",
            "Epoch 23/100\n",
            "1600/1600 [==============================] - 0s 32us/step - loss: 0.1579 - val_loss: 0.1336\n",
            "Epoch 24/100\n",
            "1600/1600 [==============================] - 0s 30us/step - loss: 0.1536 - val_loss: 0.1301\n",
            "Epoch 25/100\n",
            "1600/1600 [==============================] - 0s 33us/step - loss: 0.1520 - val_loss: 0.1221\n",
            "Epoch 26/100\n",
            "1600/1600 [==============================] - 0s 35us/step - loss: 0.1383 - val_loss: 0.1165\n",
            "Epoch 27/100\n",
            "1600/1600 [==============================] - 0s 33us/step - loss: 0.1383 - val_loss: 0.1129\n",
            "Epoch 28/100\n",
            "1600/1600 [==============================] - 0s 31us/step - loss: 0.1371 - val_loss: 0.1222\n",
            "Epoch 29/100\n",
            "1600/1600 [==============================] - 0s 29us/step - loss: 0.1343 - val_loss: 0.1131\n",
            "Epoch 30/100\n",
            "1600/1600 [==============================] - 0s 31us/step - loss: 0.1280 - val_loss: 0.1050\n",
            "Epoch 31/100\n",
            "1600/1600 [==============================] - 0s 34us/step - loss: 0.1271 - val_loss: 0.1082\n",
            "Epoch 32/100\n",
            "1600/1600 [==============================] - 0s 30us/step - loss: 0.1372 - val_loss: 0.1061\n",
            "Epoch 33/100\n",
            "1600/1600 [==============================] - 0s 29us/step - loss: 0.1212 - val_loss: 0.0990\n",
            "Epoch 34/100\n",
            "1600/1600 [==============================] - 0s 32us/step - loss: 0.1197 - val_loss: 0.0984\n",
            "Epoch 35/100\n",
            "1600/1600 [==============================] - 0s 34us/step - loss: 0.1260 - val_loss: 0.0977\n",
            "Epoch 36/100\n",
            "1600/1600 [==============================] - 0s 30us/step - loss: 0.1143 - val_loss: 0.0991\n",
            "Epoch 37/100\n",
            "1600/1600 [==============================] - 0s 30us/step - loss: 0.1181 - val_loss: 0.0984\n",
            "Epoch 38/100\n",
            "1600/1600 [==============================] - 0s 30us/step - loss: 0.1139 - val_loss: 0.0890\n",
            "Epoch 39/100\n",
            "1600/1600 [==============================] - 0s 34us/step - loss: 0.1143 - val_loss: 0.1044\n",
            "Epoch 40/100\n",
            "1600/1600 [==============================] - 0s 32us/step - loss: 0.1088 - val_loss: 0.0861\n",
            "Epoch 41/100\n",
            "1600/1600 [==============================] - 0s 31us/step - loss: 0.1052 - val_loss: 0.0895\n",
            "Epoch 42/100\n",
            "1600/1600 [==============================] - 0s 31us/step - loss: 0.1077 - val_loss: 0.0931\n",
            "Epoch 43/100\n",
            "1600/1600 [==============================] - 0s 33us/step - loss: 0.1108 - val_loss: 0.0881\n",
            "Epoch 44/100\n",
            "1600/1600 [==============================] - 0s 29us/step - loss: 0.1048 - val_loss: 0.0800\n",
            "Epoch 45/100\n",
            "1600/1600 [==============================] - 0s 30us/step - loss: 0.1095 - val_loss: 0.0822\n",
            "Epoch 46/100\n",
            "1600/1600 [==============================] - 0s 30us/step - loss: 0.1050 - val_loss: 0.0896\n",
            "Epoch 47/100\n",
            "1600/1600 [==============================] - 0s 31us/step - loss: 0.1069 - val_loss: 0.0771\n",
            "Epoch 48/100\n",
            "1600/1600 [==============================] - 0s 32us/step - loss: 0.1013 - val_loss: 0.0749\n",
            "Epoch 49/100\n",
            "1600/1600 [==============================] - 0s 33us/step - loss: 0.1001 - val_loss: 0.0750\n",
            "Epoch 50/100\n",
            "1600/1600 [==============================] - 0s 30us/step - loss: 0.0984 - val_loss: 0.0808\n",
            "Epoch 51/100\n",
            "1600/1600 [==============================] - 0s 31us/step - loss: 0.1017 - val_loss: 0.0688\n",
            "Epoch 52/100\n",
            "1600/1600 [==============================] - 0s 32us/step - loss: 0.0860 - val_loss: 0.0738\n",
            "Epoch 53/100\n",
            "1600/1600 [==============================] - 0s 30us/step - loss: 0.0946 - val_loss: 0.0688\n",
            "Epoch 54/100\n",
            "1600/1600 [==============================] - 0s 30us/step - loss: 0.0983 - val_loss: 0.0748\n",
            "Epoch 55/100\n",
            "1600/1600 [==============================] - 0s 31us/step - loss: 0.1030 - val_loss: 0.0723\n",
            "Epoch 56/100\n",
            "1600/1600 [==============================] - 0s 37us/step - loss: 0.0895 - val_loss: 0.0676\n",
            "Epoch 57/100\n",
            "1600/1600 [==============================] - 0s 35us/step - loss: 0.0889 - val_loss: 0.0661\n",
            "Epoch 58/100\n",
            "1600/1600 [==============================] - 0s 30us/step - loss: 0.0902 - val_loss: 0.0671\n",
            "Epoch 59/100\n",
            "1600/1600 [==============================] - 0s 29us/step - loss: 0.0882 - val_loss: 0.0765\n",
            "Epoch 60/100\n",
            "1600/1600 [==============================] - 0s 30us/step - loss: 0.0947 - val_loss: 0.0659\n",
            "Epoch 61/100\n",
            "1600/1600 [==============================] - 0s 30us/step - loss: 0.0897 - val_loss: 0.0754\n",
            "Epoch 62/100\n",
            "1600/1600 [==============================] - 0s 32us/step - loss: 0.0885 - val_loss: 0.0701\n",
            "Epoch 63/100\n",
            "1600/1600 [==============================] - 0s 35us/step - loss: 0.0843 - val_loss: 0.0662\n",
            "Epoch 64/100\n",
            "1600/1600 [==============================] - 0s 30us/step - loss: 0.0869 - val_loss: 0.0592\n",
            "Epoch 65/100\n",
            "1600/1600 [==============================] - 0s 30us/step - loss: 0.0800 - val_loss: 0.0705\n",
            "Epoch 66/100\n",
            "1600/1600 [==============================] - 0s 32us/step - loss: 0.0931 - val_loss: 0.0753\n",
            "Epoch 67/100\n",
            "1600/1600 [==============================] - 0s 33us/step - loss: 0.0958 - val_loss: 0.0578\n",
            "Epoch 68/100\n",
            "1600/1600 [==============================] - 0s 31us/step - loss: 0.0760 - val_loss: 0.0616\n",
            "Epoch 69/100\n",
            "1600/1600 [==============================] - 0s 30us/step - loss: 0.0818 - val_loss: 0.0612\n",
            "Epoch 70/100\n",
            "1600/1600 [==============================] - 0s 35us/step - loss: 0.0793 - val_loss: 0.0580\n",
            "Epoch 71/100\n",
            "1600/1600 [==============================] - 0s 30us/step - loss: 0.0814 - val_loss: 0.0579\n",
            "Epoch 72/100\n",
            "1600/1600 [==============================] - 0s 28us/step - loss: 0.0837 - val_loss: 0.0570\n",
            "Epoch 73/100\n",
            "1600/1600 [==============================] - 0s 32us/step - loss: 0.0824 - val_loss: 0.0663\n",
            "Epoch 74/100\n",
            "1600/1600 [==============================] - 0s 32us/step - loss: 0.0895 - val_loss: 0.0561\n",
            "Epoch 75/100\n",
            "1600/1600 [==============================] - 0s 31us/step - loss: 0.0769 - val_loss: 0.0578\n",
            "Epoch 76/100\n",
            "1600/1600 [==============================] - 0s 30us/step - loss: 0.0783 - val_loss: 0.0615\n",
            "Epoch 77/100\n",
            "1600/1600 [==============================] - 0s 32us/step - loss: 0.0908 - val_loss: 0.0622\n",
            "Epoch 78/100\n",
            "1600/1600 [==============================] - 0s 31us/step - loss: 0.0842 - val_loss: 0.0620\n",
            "Epoch 79/100\n",
            "1600/1600 [==============================] - 0s 32us/step - loss: 0.0774 - val_loss: 0.0520\n",
            "Epoch 80/100\n",
            "1600/1600 [==============================] - 0s 33us/step - loss: 0.0758 - val_loss: 0.0527\n",
            "Epoch 81/100\n",
            "1600/1600 [==============================] - 0s 30us/step - loss: 0.0747 - val_loss: 0.0608\n",
            "Epoch 82/100\n",
            "1600/1600 [==============================] - 0s 31us/step - loss: 0.0834 - val_loss: 0.0546\n",
            "Epoch 83/100\n",
            "1600/1600 [==============================] - 0s 36us/step - loss: 0.0702 - val_loss: 0.0534\n",
            "Epoch 84/100\n",
            "1600/1600 [==============================] - 0s 31us/step - loss: 0.0739 - val_loss: 0.0537\n",
            "Epoch 85/100\n",
            "1600/1600 [==============================] - 0s 31us/step - loss: 0.0747 - val_loss: 0.0556\n",
            "Epoch 86/100\n",
            "1600/1600 [==============================] - 0s 32us/step - loss: 0.0810 - val_loss: 0.0631\n",
            "Epoch 87/100\n",
            "1600/1600 [==============================] - 0s 32us/step - loss: 0.0812 - val_loss: 0.0492\n",
            "Epoch 88/100\n",
            "1600/1600 [==============================] - 0s 29us/step - loss: 0.0711 - val_loss: 0.0509\n",
            "Epoch 89/100\n",
            "1600/1600 [==============================] - 0s 29us/step - loss: 0.0727 - val_loss: 0.0516\n",
            "Epoch 90/100\n",
            "1600/1600 [==============================] - 0s 30us/step - loss: 0.0748 - val_loss: 0.0494\n",
            "Epoch 91/100\n",
            "1600/1600 [==============================] - 0s 33us/step - loss: 0.0704 - val_loss: 0.0544\n",
            "Epoch 92/100\n",
            "1600/1600 [==============================] - 0s 31us/step - loss: 0.0748 - val_loss: 0.0527\n",
            "Epoch 93/100\n",
            "1600/1600 [==============================] - 0s 30us/step - loss: 0.0743 - val_loss: 0.0661\n",
            "Epoch 94/100\n",
            "1600/1600 [==============================] - 0s 30us/step - loss: 0.0822 - val_loss: 0.0537\n",
            "Epoch 95/100\n",
            "1600/1600 [==============================] - 0s 32us/step - loss: 0.0722 - val_loss: 0.0496\n",
            "Epoch 96/100\n",
            "1600/1600 [==============================] - 0s 30us/step - loss: 0.0684 - val_loss: 0.0468\n",
            "Epoch 97/100\n",
            "1600/1600 [==============================] - 0s 31us/step - loss: 0.0706 - val_loss: 0.0602\n",
            "Epoch 98/100\n",
            "1600/1600 [==============================] - 0s 33us/step - loss: 0.0744 - val_loss: 0.0501\n",
            "Epoch 99/100\n",
            "1600/1600 [==============================] - 0s 34us/step - loss: 0.0692 - val_loss: 0.0511\n",
            "Epoch 100/100\n",
            "1600/1600 [==============================] - 0s 31us/step - loss: 0.0700 - val_loss: 0.0484\n"
          ],
          "name": "stdout"
        }
      ]
    },
    {
      "cell_type": "markdown",
      "metadata": {
        "id": "UHFpErnTy63H",
        "colab_type": "text"
      },
      "source": [
        "**Obtain the Latent Representations**\n",
        "\n",
        "Now, the model is trained. We are intereseted in obtaining latent representation of the input learned by the model. This can be accessed by the weights of the trained model. We will create another network containing sequential layers, and we will only add the trained weights till the third layer where latent representation exists."
      ]
    },
    {
      "cell_type": "code",
      "metadata": {
        "id": "_35HB_KYzHL9",
        "colab_type": "code",
        "colab": {}
      },
      "source": [
        "hidden_representation = Sequential()\n",
        "hidden_representation.add(autoencoder.layers[0])\n",
        "hidden_representation.add(autoencoder.layers[1])\n",
        "hidden_representation.add(autoencoder.layers[2])\n",
        "hidden_representation.add(autoencoder.layers[3]) # this one  added extra can be removed"
      ],
      "execution_count": 0,
      "outputs": []
    },
    {
      "cell_type": "markdown",
      "metadata": {
        "id": "acAi-DbdzcBf",
        "colab_type": "text"
      },
      "source": [
        "Generate the hidden representations of two classes : non-dlq and dlq by predicting the raw inputs using the above model."
      ]
    },
    {
      "cell_type": "code",
      "metadata": {
        "id": "CBTrafzQzkgx",
        "colab_type": "code",
        "colab": {}
      },
      "source": [
        "norm_hid_rep = hidden_representation.predict(x_norm[:3000])\n",
        "dlq_hid_rep = hidden_representation.predict(x_dlq)"
      ],
      "execution_count": 0,
      "outputs": []
    },
    {
      "cell_type": "markdown",
      "metadata": {
        "id": "LNS--gB_0PMT",
        "colab_type": "text"
      },
      "source": [
        "**Visualize the latent representations : Delinquency Vs Non Deliquency**\n",
        "\n",
        "Now we will create a training dataset using the latent representations obtained and let's visualize the nature of Deliquency vs non-Delinquency cases."
      ]
    },
    {
      "cell_type": "code",
      "metadata": {
        "id": "rSxwqZzi0j2X",
        "colab_type": "code",
        "outputId": "32c20989-2e9b-4edf-c7c4-44ea7feb543c",
        "colab": {
          "base_uri": "https://localhost:8080/",
          "height": 491
        }
      },
      "source": [
        "rep_x = np.append(norm_hid_rep, dlq_hid_rep, axis = 0)\n",
        "y_n = np.zeros(norm_hid_rep.shape[0])\n",
        "y_f = np.ones(dlq_hid_rep.shape[0])\n",
        "rep_y = np.append(y_n, y_f)\n",
        "tsne_plot(rep_x, rep_y, \"latent_representation.png\")"
      ],
      "execution_count": 898,
      "outputs": [
        {
          "output_type": "display_data",
          "data": {
            "image/png": "[encoded data removed]",
            "text/plain": [
              "<Figure size 864x576 with 1 Axes>"
            ]
          },
          "metadata": {
            "tags": []
          }
        }
      ]
    },
    {
      "cell_type": "markdown",
      "metadata": {
        "id": "diGemn4bNbb6",
        "colab_type": "text"
      },
      "source": [
        "What a perfect graph, we can observe that now delinquency and non- deliquency transactions are pretty visibile and are linearly separable. Now we dont need any complex model to classify this, even the simpler models can be used to predict. Here is the before and after view of Delinquency and Non Deliquency transactions "
      ]
    },
    {
      "cell_type": "code",
      "metadata": {
        "id": "4IfY3Oc92_MM",
        "colab_type": "code",
        "outputId": "0a3a67bc-9999-4b88-94ed-c1a561c94b04",
        "colab": {
          "base_uri": "https://localhost:8080/",
          "height": 64
        }
      },
      "source": [
        "from IPython.display import display, Image, HTML\n",
        "display(HTML(\"\"\"<table align=\"center\">\n",
        "<tr ><td><b>Actual Representation (Before) </b></td><td><b>Latent Representation (Actual)</b></td></tr>\n",
        "<tr><td><img src='original.png'></td><td>\n",
        "             <img src='latent_representation.png'></td></tr></table>\"\"\"))"
      ],
      "execution_count": 899,
      "outputs": [
        {
          "output_type": "display_data",
          "data": {
            "text/html": [
              "<table align=\"center\">\n",
              "<tr ><td><b>Actual Representation (Before) </b></td><td><b>Latent Representation (Actual)</b></td></tr>\n",
              "<tr><td><img src='original.png'></td><td>\n",
              "             <img src='latent_representation.png'></td></tr></table>"
            ],
            "text/plain": [
              "<IPython.core.display.HTML object>"
            ]
          },
          "metadata": {
            "tags": []
          }
        }
      ]
    },
    {
      "cell_type": "code",
      "metadata": {
        "id": "EjiC08Om9e2e",
        "colab_type": "code",
        "outputId": "73af3e2d-d15f-4851-d38e-caaa755f18f4",
        "colab": {
          "base_uri": "https://localhost:8080/",
          "height": 241
        }
      },
      "source": [
        "train_x, val_x, train_y, val_y = train_test_split(rep_x, rep_y, test_size=0.20,random_state=43)\n",
        "clf = LogisticRegression(penalty = 'l1',C=0.7, random_state =42).fit(train_x, train_y)\n",
        "pred_y = clf.predict(val_x)\n",
        "\n",
        "print (classification_report(val_y, pred_y))\n",
        "print (accuracy_score(val_y, pred_y))"
      ],
      "execution_count": 900,
      "outputs": [
        {
          "output_type": "stream",
          "text": [
            "/usr/local/lib/python3.6/dist-packages/sklearn/linear_model/logistic.py:432: FutureWarning: Default solver will be changed to 'lbfgs' in 0.22. Specify a solver to silence this warning.\n",
            "  FutureWarning)\n"
          ],
          "name": "stderr"
        },
        {
          "output_type": "stream",
          "text": [
            "              precision    recall  f1-score   support\n",
            "\n",
            "         0.0       0.87      1.00      0.93       590\n",
            "         1.0       0.98      0.36      0.52       138\n",
            "\n",
            "    accuracy                           0.88       728\n",
            "   macro avg       0.92      0.68      0.73       728\n",
            "weighted avg       0.89      0.88      0.85       728\n",
            "\n",
            "0.8763736263736264\n"
          ],
          "name": "stdout"
        }
      ]
    },
    {
      "cell_type": "code",
      "metadata": {
        "id": "CRR1NkYg7ahd",
        "colab_type": "code",
        "outputId": "926f477b-cb7f-420b-eca7-169b8dcee364",
        "colab": {
          "base_uri": "https://localhost:8080/",
          "height": 34
        }
      },
      "source": [
        "from sklearn.metrics import roc_auc_score\n",
        "# calculate AUC\n",
        "auc = roc_auc_score(val_y, pred_y)\n",
        "print('AUC: %.3f' % auc)"
      ],
      "execution_count": 901,
      "outputs": [
        {
          "output_type": "stream",
          "text": [
            "AUC: 0.677\n"
          ],
          "name": "stdout"
        }
      ]
    },
    {
      "cell_type": "markdown",
      "metadata": {
        "id": "Qn9MTmnenTi5",
        "colab_type": "text"
      },
      "source": [
        "XGB"
      ]
    },
    {
      "cell_type": "code",
      "metadata": {
        "id": "QIbJXMIGnVXC",
        "colab_type": "code",
        "outputId": "3098b1b4-caed-4f83-f55b-5518bbf4b33e",
        "colab": {
          "base_uri": "https://localhost:8080/",
          "height": 187
        }
      },
      "source": [
        "import xgboost as xgb\n",
        "train_x, val_x, train_y, val_y = train_test_split(rep_x, rep_y, test_size=0.20, random_state=43)\n",
        "clf1 = xgb.XGBClassifier(n_jobs = -1,n_estimators =300,max_depth=10,objective='binary:logistic',scale_pos_weight=4,  gamma=10\n",
        "                      ).fit(train_x, train_y)\n",
        "pred_y = clf1.predict(val_x)\n",
        "\n",
        "print (classification_report(val_y, pred_y))\n",
        "print (accuracy_score(val_y, pred_y))"
      ],
      "execution_count": 902,
      "outputs": [
        {
          "output_type": "stream",
          "text": [
            "              precision    recall  f1-score   support\n",
            "\n",
            "         0.0       0.91      0.96      0.94       590\n",
            "         1.0       0.79      0.58      0.67       138\n",
            "\n",
            "    accuracy                           0.89       728\n",
            "   macro avg       0.85      0.77      0.80       728\n",
            "weighted avg       0.89      0.89      0.88       728\n",
            "\n",
            "0.8914835164835165\n"
          ],
          "name": "stdout"
        }
      ]
    },
    {
      "cell_type": "code",
      "metadata": {
        "id": "RNdGzFfDFovl",
        "colab_type": "code",
        "outputId": "4a222f2d-5181-4ea4-9794-7dc1da21f7e4",
        "colab": {
          "base_uri": "https://localhost:8080/",
          "height": 34
        }
      },
      "source": [
        "# calculate AUC\n",
        "auc = roc_auc_score(val_y, pred_y)\n",
        "print('AUC: %.3f' % auc)"
      ],
      "execution_count": 903,
      "outputs": [
        {
          "output_type": "stream",
          "text": [
            "AUC: 0.772\n"
          ],
          "name": "stdout"
        }
      ]
    },
    {
      "cell_type": "markdown",
      "metadata": {
        "id": "5H_pQOjEI69d",
        "colab_type": "text"
      },
      "source": [
        "Submission"
      ]
    },
    {
      "cell_type": "code",
      "metadata": {
        "id": "JE2oTeiTNOqZ",
        "colab_type": "code",
        "colab": {}
      },
      "source": [
        "# let's scale  test  value \n",
        "\n",
        "# here  also all catagorial vaar to  int\n",
        "# c is  already defined during train data\n",
        "from sklearn.preprocessing import LabelEncoder\n",
        "for c in cols:\n",
        "    lbl = LabelEncoder() \n",
        "    lbl.fit(list(test[c].values)) \n",
        "    test[c] = lbl.transform(list(test[c].values))\n",
        "    \n",
        "#Standardising  values  like train data\n",
        "\n",
        "scaler = preprocessing.MinMaxScaler()\n",
        "scaler.fit(test.values)\n",
        "test_x_scale = scaler.transform(test.values)"
      ],
      "execution_count": 0,
      "outputs": []
    },
    {
      "cell_type": "code",
      "metadata": {
        "id": "ZY8jUku5I3Rn",
        "colab_type": "code",
        "outputId": "e87e5644-6a90-4069-f533-f236a82e738b",
        "colab": {
          "base_uri": "https://localhost:8080/",
          "height": 204
        }
      },
      "source": [
        "temp = pd.DataFrame([])\n",
        "test_rep_x = hidden_representation.predict(test_x_scale)\n",
        "temp['m13'] = [int(x) for x in clf.predict(test_rep_x)]\n",
        "temp.to_csv(\"submission.csv\", index = False)\n",
        "sub= pd.read_csv(\"submission.csv\")\n",
        "r=pd.RangeIndex(start=1, stop=35867, step=1)\n",
        "sub1=sub.insert(0,'loan_id',r)\n",
        "\n",
        "t=pd.concat([sub1,sub])\n",
        "t.to_csv(\"submission1.csv\", index = False)\n",
        "\n",
        "t.head()\n",
        "\n",
        "\n",
        "\n",
        "\n",
        "\n",
        "\n",
        "\n",
        "\n",
        "\n"
      ],
      "execution_count": 905,
      "outputs": [
        {
          "output_type": "execute_result",
          "data": {
            "text/html": [
              "<div>\n",
              "<style scoped>\n",
              "    .dataframe tbody tr th:only-of-type {\n",
              "        vertical-align: middle;\n",
              "    }\n",
              "\n",
              "    .dataframe tbody tr th {\n",
              "        vertical-align: top;\n",
              "    }\n",
              "\n",
              "    .dataframe thead th {\n",
              "        text-align: right;\n",
              "    }\n",
              "</style>\n",
              "<table border=\"1\" class=\"dataframe\">\n",
              "  <thead>\n",
              "    <tr style=\"text-align: right;\">\n",
              "      <th></th>\n",
              "      <th>loan_id</th>\n",
              "      <th>m13</th>\n",
              "    </tr>\n",
              "  </thead>\n",
              "  <tbody>\n",
              "    <tr>\n",
              "      <th>0</th>\n",
              "      <td>1</td>\n",
              "      <td>0</td>\n",
              "    </tr>\n",
              "    <tr>\n",
              "      <th>1</th>\n",
              "      <td>2</td>\n",
              "      <td>0</td>\n",
              "    </tr>\n",
              "    <tr>\n",
              "      <th>2</th>\n",
              "      <td>3</td>\n",
              "      <td>0</td>\n",
              "    </tr>\n",
              "    <tr>\n",
              "      <th>3</th>\n",
              "      <td>4</td>\n",
              "      <td>0</td>\n",
              "    </tr>\n",
              "    <tr>\n",
              "      <th>4</th>\n",
              "      <td>5</td>\n",
              "      <td>0</td>\n",
              "    </tr>\n",
              "  </tbody>\n",
              "</table>\n",
              "</div>"
            ],
            "text/plain": [
              "   loan_id  m13\n",
              "0        1    0\n",
              "1        2    0\n",
              "2        3    0\n",
              "3        4    0\n",
              "4        5    0"
            ]
          },
          "metadata": {
            "tags": []
          },
          "execution_count": 905
        }
      ]
    },
    {
      "cell_type": "code",
      "metadata": {
        "id": "j70mizSmGUIY",
        "colab_type": "code",
        "colab": {}
      },
      "source": [
        "# downloading  the submission file directly  (without  google  drive )\n",
        "\n",
        "#from google.colab import files\n",
        "#files.download('sample_submission1.csv')"
      ],
      "execution_count": 0,
      "outputs": []
    }
  ]
}